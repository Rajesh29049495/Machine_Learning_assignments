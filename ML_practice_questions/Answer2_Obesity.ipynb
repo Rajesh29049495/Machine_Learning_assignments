{
 "cells": [
  {
   "cell_type": "code",
   "execution_count": 4,
   "id": "76183af3",
   "metadata": {},
   "outputs": [],
   "source": [
    "# import packages and libraries\n",
    "import pandas as pd\n",
    "import numpy as np\n",
    "\n",
    "import matplotlib.pyplot as plt\n",
    "%matplotlib inline\n",
    "import seaborn as sns\n",
    "\n",
    "#from scipy.stats import shapiro\n"
   ]
  },
  {
   "cell_type": "code",
   "execution_count": 34,
   "id": "6c084855",
   "metadata": {},
   "outputs": [],
   "source": [
    "# Read file \n",
    "df = pd.read_csv(\"ObesityDataSet_raw_and_data_sinthetic.csv\")"
   ]
  },
  {
   "cell_type": "markdown",
   "id": "45629a5a",
   "metadata": {},
   "source": [
    "## Exploring the data"
   ]
  },
  {
   "cell_type": "markdown",
   "id": "8a64981d",
   "metadata": {},
   "source": [
    "* The data contains 2111 records with 17 columns.\n",
    "* all records unique and no null values\n",
    "* Survey data is distinguishable from the synthesized data base on floats used for ordinal varibales.{This data is created via survery. However the data was imbalanced and records were synthasized to simulate additional responses.}"
   ]
  },
  {
   "cell_type": "code",
   "execution_count": 35,
   "id": "a8590768",
   "metadata": {},
   "outputs": [
    {
     "data": {
      "text/html": [
       "<div>\n",
       "<style scoped>\n",
       "    .dataframe tbody tr th:only-of-type {\n",
       "        vertical-align: middle;\n",
       "    }\n",
       "\n",
       "    .dataframe tbody tr th {\n",
       "        vertical-align: top;\n",
       "    }\n",
       "\n",
       "    .dataframe thead th {\n",
       "        text-align: right;\n",
       "    }\n",
       "</style>\n",
       "<table border=\"1\" class=\"dataframe\">\n",
       "  <thead>\n",
       "    <tr style=\"text-align: right;\">\n",
       "      <th></th>\n",
       "      <th>Gender</th>\n",
       "      <th>Age</th>\n",
       "      <th>Height</th>\n",
       "      <th>Weight</th>\n",
       "      <th>family_history_with_overweight</th>\n",
       "      <th>FAVC</th>\n",
       "      <th>FCVC</th>\n",
       "      <th>NCP</th>\n",
       "      <th>CAEC</th>\n",
       "      <th>SMOKE</th>\n",
       "      <th>CH2O</th>\n",
       "      <th>SCC</th>\n",
       "      <th>FAF</th>\n",
       "      <th>TUE</th>\n",
       "      <th>CALC</th>\n",
       "      <th>MTRANS</th>\n",
       "      <th>NObeyesdad</th>\n",
       "    </tr>\n",
       "  </thead>\n",
       "  <tbody>\n",
       "    <tr>\n",
       "      <th>0</th>\n",
       "      <td>Female</td>\n",
       "      <td>21.0</td>\n",
       "      <td>1.62</td>\n",
       "      <td>64.0</td>\n",
       "      <td>yes</td>\n",
       "      <td>no</td>\n",
       "      <td>2.0</td>\n",
       "      <td>3.0</td>\n",
       "      <td>Sometimes</td>\n",
       "      <td>no</td>\n",
       "      <td>2.0</td>\n",
       "      <td>no</td>\n",
       "      <td>0.0</td>\n",
       "      <td>1.0</td>\n",
       "      <td>no</td>\n",
       "      <td>Public_Transportation</td>\n",
       "      <td>Normal_Weight</td>\n",
       "    </tr>\n",
       "    <tr>\n",
       "      <th>1</th>\n",
       "      <td>Female</td>\n",
       "      <td>21.0</td>\n",
       "      <td>1.52</td>\n",
       "      <td>56.0</td>\n",
       "      <td>yes</td>\n",
       "      <td>no</td>\n",
       "      <td>3.0</td>\n",
       "      <td>3.0</td>\n",
       "      <td>Sometimes</td>\n",
       "      <td>yes</td>\n",
       "      <td>3.0</td>\n",
       "      <td>yes</td>\n",
       "      <td>3.0</td>\n",
       "      <td>0.0</td>\n",
       "      <td>Sometimes</td>\n",
       "      <td>Public_Transportation</td>\n",
       "      <td>Normal_Weight</td>\n",
       "    </tr>\n",
       "    <tr>\n",
       "      <th>2</th>\n",
       "      <td>Male</td>\n",
       "      <td>23.0</td>\n",
       "      <td>1.80</td>\n",
       "      <td>77.0</td>\n",
       "      <td>yes</td>\n",
       "      <td>no</td>\n",
       "      <td>2.0</td>\n",
       "      <td>3.0</td>\n",
       "      <td>Sometimes</td>\n",
       "      <td>no</td>\n",
       "      <td>2.0</td>\n",
       "      <td>no</td>\n",
       "      <td>2.0</td>\n",
       "      <td>1.0</td>\n",
       "      <td>Frequently</td>\n",
       "      <td>Public_Transportation</td>\n",
       "      <td>Normal_Weight</td>\n",
       "    </tr>\n",
       "    <tr>\n",
       "      <th>3</th>\n",
       "      <td>Male</td>\n",
       "      <td>27.0</td>\n",
       "      <td>1.80</td>\n",
       "      <td>87.0</td>\n",
       "      <td>no</td>\n",
       "      <td>no</td>\n",
       "      <td>3.0</td>\n",
       "      <td>3.0</td>\n",
       "      <td>Sometimes</td>\n",
       "      <td>no</td>\n",
       "      <td>2.0</td>\n",
       "      <td>no</td>\n",
       "      <td>2.0</td>\n",
       "      <td>0.0</td>\n",
       "      <td>Frequently</td>\n",
       "      <td>Walking</td>\n",
       "      <td>Overweight_Level_I</td>\n",
       "    </tr>\n",
       "    <tr>\n",
       "      <th>4</th>\n",
       "      <td>Male</td>\n",
       "      <td>22.0</td>\n",
       "      <td>1.78</td>\n",
       "      <td>89.8</td>\n",
       "      <td>no</td>\n",
       "      <td>no</td>\n",
       "      <td>2.0</td>\n",
       "      <td>1.0</td>\n",
       "      <td>Sometimes</td>\n",
       "      <td>no</td>\n",
       "      <td>2.0</td>\n",
       "      <td>no</td>\n",
       "      <td>0.0</td>\n",
       "      <td>0.0</td>\n",
       "      <td>Sometimes</td>\n",
       "      <td>Public_Transportation</td>\n",
       "      <td>Overweight_Level_II</td>\n",
       "    </tr>\n",
       "  </tbody>\n",
       "</table>\n",
       "</div>"
      ],
      "text/plain": [
       "   Gender   Age  Height  Weight family_history_with_overweight FAVC  FCVC  \\\n",
       "0  Female  21.0    1.62    64.0                            yes   no   2.0   \n",
       "1  Female  21.0    1.52    56.0                            yes   no   3.0   \n",
       "2    Male  23.0    1.80    77.0                            yes   no   2.0   \n",
       "3    Male  27.0    1.80    87.0                             no   no   3.0   \n",
       "4    Male  22.0    1.78    89.8                             no   no   2.0   \n",
       "\n",
       "   NCP       CAEC SMOKE  CH2O  SCC  FAF  TUE        CALC  \\\n",
       "0  3.0  Sometimes    no   2.0   no  0.0  1.0          no   \n",
       "1  3.0  Sometimes   yes   3.0  yes  3.0  0.0   Sometimes   \n",
       "2  3.0  Sometimes    no   2.0   no  2.0  1.0  Frequently   \n",
       "3  3.0  Sometimes    no   2.0   no  2.0  0.0  Frequently   \n",
       "4  1.0  Sometimes    no   2.0   no  0.0  0.0   Sometimes   \n",
       "\n",
       "                  MTRANS           NObeyesdad  \n",
       "0  Public_Transportation        Normal_Weight  \n",
       "1  Public_Transportation        Normal_Weight  \n",
       "2  Public_Transportation        Normal_Weight  \n",
       "3                Walking   Overweight_Level_I  \n",
       "4  Public_Transportation  Overweight_Level_II  "
      ]
     },
     "execution_count": 35,
     "metadata": {},
     "output_type": "execute_result"
    }
   ],
   "source": [
    "# top 5 rows\n",
    "df.head()"
   ]
  },
  {
   "cell_type": "code",
   "execution_count": 36,
   "id": "8ccdc1e1",
   "metadata": {},
   "outputs": [
    {
     "data": {
      "text/plain": [
       "(2111, 17)"
      ]
     },
     "execution_count": 36,
     "metadata": {},
     "output_type": "execute_result"
    }
   ],
   "source": [
    "df.shape"
   ]
  },
  {
   "cell_type": "code",
   "execution_count": 37,
   "id": "fad52a23",
   "metadata": {},
   "outputs": [
    {
     "data": {
      "text/html": [
       "<div>\n",
       "<style scoped>\n",
       "    .dataframe tbody tr th:only-of-type {\n",
       "        vertical-align: middle;\n",
       "    }\n",
       "\n",
       "    .dataframe tbody tr th {\n",
       "        vertical-align: top;\n",
       "    }\n",
       "\n",
       "    .dataframe thead th {\n",
       "        text-align: right;\n",
       "    }\n",
       "</style>\n",
       "<table border=\"1\" class=\"dataframe\">\n",
       "  <thead>\n",
       "    <tr style=\"text-align: right;\">\n",
       "      <th></th>\n",
       "      <th>Gender</th>\n",
       "      <th>Age</th>\n",
       "      <th>Height</th>\n",
       "      <th>Weight</th>\n",
       "      <th>family_history_with_overweight</th>\n",
       "      <th>FAVC</th>\n",
       "      <th>FCVC</th>\n",
       "      <th>NCP</th>\n",
       "      <th>CAEC</th>\n",
       "      <th>SMOKE</th>\n",
       "      <th>CH2O</th>\n",
       "      <th>SCC</th>\n",
       "      <th>FAF</th>\n",
       "      <th>TUE</th>\n",
       "      <th>CALC</th>\n",
       "      <th>MTRANS</th>\n",
       "      <th>NObeyesdad</th>\n",
       "    </tr>\n",
       "  </thead>\n",
       "  <tbody>\n",
       "  </tbody>\n",
       "</table>\n",
       "</div>"
      ],
      "text/plain": [
       "Empty DataFrame\n",
       "Columns: [Gender, Age, Height, Weight, family_history_with_overweight, FAVC, FCVC, NCP, CAEC, SMOKE, CH2O, SCC, FAF, TUE, CALC, MTRANS, NObeyesdad]\n",
       "Index: []"
      ]
     },
     "execution_count": 37,
     "metadata": {},
     "output_type": "execute_result"
    }
   ],
   "source": [
    "df[df.isnull().any(axis =1)]"
   ]
  },
  {
   "cell_type": "code",
   "execution_count": 38,
   "id": "4e4928ba",
   "metadata": {},
   "outputs": [
    {
     "name": "stdout",
     "output_type": "stream",
     "text": [
      "<class 'pandas.core.frame.DataFrame'>\n",
      "RangeIndex: 2111 entries, 0 to 2110\n",
      "Data columns (total 17 columns):\n",
      " #   Column                          Non-Null Count  Dtype  \n",
      "---  ------                          --------------  -----  \n",
      " 0   Gender                          2111 non-null   object \n",
      " 1   Age                             2111 non-null   float64\n",
      " 2   Height                          2111 non-null   float64\n",
      " 3   Weight                          2111 non-null   float64\n",
      " 4   family_history_with_overweight  2111 non-null   object \n",
      " 5   FAVC                            2111 non-null   object \n",
      " 6   FCVC                            2111 non-null   float64\n",
      " 7   NCP                             2111 non-null   float64\n",
      " 8   CAEC                            2111 non-null   object \n",
      " 9   SMOKE                           2111 non-null   object \n",
      " 10  CH2O                            2111 non-null   float64\n",
      " 11  SCC                             2111 non-null   object \n",
      " 12  FAF                             2111 non-null   float64\n",
      " 13  TUE                             2111 non-null   float64\n",
      " 14  CALC                            2111 non-null   object \n",
      " 15  MTRANS                          2111 non-null   object \n",
      " 16  NObeyesdad                      2111 non-null   object \n",
      "dtypes: float64(8), object(9)\n",
      "memory usage: 280.5+ KB\n"
     ]
    }
   ],
   "source": [
    "df.info()"
   ]
  },
  {
   "cell_type": "code",
   "execution_count": 40,
   "id": "29a2fc4f",
   "metadata": {},
   "outputs": [
    {
     "name": "stdout",
     "output_type": "stream",
     "text": [
      "We have 8 numerical features : ['Age', 'Height', 'Weight', 'FCVC', 'NCP', 'CH2O', 'FAF', 'TUE']\n",
      "We have 9 categorical features : ['Gender', 'family_history_with_overweight', 'FAVC', 'CAEC', 'SMOKE', 'SCC', 'CALC', 'MTRANS', 'NObeyesdad']\n"
     ]
    }
   ],
   "source": [
    "# define numerical and categorical featutres\n",
    "num_fea = [fea for fea in df.columns if df[fea].dtype !='O']\n",
    "cat_fea = [fea for fea in df.columns if df[fea].dtype =='O']\n",
    "\n",
    "# print\n",
    "print(f'We have {len(num_fea)} numerical features : {num_fea}')\n",
    "print(f'We have {len(cat_fea)} categorical features : {cat_fea}')"
   ]
  },
  {
   "cell_type": "code",
   "execution_count": 41,
   "id": "8e201271",
   "metadata": {},
   "outputs": [
    {
     "name": "stdout",
     "output_type": "stream",
     "text": [
      "Male      50.592136\n",
      "Female    49.407864\n",
      "Name: Gender, dtype: float64\n",
      "----------------------------\n",
      "yes    81.762198\n",
      "no     18.237802\n",
      "Name: family_history_with_overweight, dtype: float64\n",
      "----------------------------\n",
      "yes    88.394126\n",
      "no     11.605874\n",
      "Name: FAVC, dtype: float64\n",
      "----------------------------\n",
      "Sometimes     83.609664\n",
      "Frequently    11.463761\n",
      "Always         2.510658\n",
      "no             2.415917\n",
      "Name: CAEC, dtype: float64\n",
      "----------------------------\n",
      "no     97.91568\n",
      "yes     2.08432\n",
      "Name: SMOKE, dtype: float64\n",
      "----------------------------\n",
      "no     95.452392\n",
      "yes     4.547608\n",
      "Name: SCC, dtype: float64\n",
      "----------------------------\n",
      "Sometimes     66.366651\n",
      "no            30.270014\n",
      "Frequently     3.315964\n",
      "Always         0.047371\n",
      "Name: CALC, dtype: float64\n",
      "----------------------------\n",
      "Public_Transportation    74.846045\n",
      "Automobile               21.648508\n",
      "Walking                   2.652771\n",
      "Motorbike                 0.521080\n",
      "Bike                      0.331596\n",
      "Name: MTRANS, dtype: float64\n",
      "----------------------------\n",
      "Obesity_Type_I         16.627191\n",
      "Obesity_Type_III       15.348176\n",
      "Obesity_Type_II        14.069162\n",
      "Overweight_Level_I     13.737565\n",
      "Overweight_Level_II    13.737565\n",
      "Normal_Weight          13.595452\n",
      "Insufficient_Weight    12.884889\n",
      "Name: NObeyesdad, dtype: float64\n",
      "----------------------------\n"
     ]
    }
   ],
   "source": [
    "#proportion of value_counts of each categorical columns\n",
    "for col in cat_fea:\n",
    " print(df[col].value_counts(normalize=True)*100)\n",
    " print('----------------------------')"
   ]
  },
  {
   "cell_type": "markdown",
   "id": "04692a73",
   "metadata": {},
   "source": [
    "**Data clean up:**\n",
    "* convert synthetic floats and floats to whole integers to better represent the ordinal data from original survey data."
   ]
  },
  {
   "cell_type": "code",
   "execution_count": 42,
   "id": "ba5ee7cd",
   "metadata": {},
   "outputs": [
    {
     "data": {
      "text/html": [
       "<div>\n",
       "<style scoped>\n",
       "    .dataframe tbody tr th:only-of-type {\n",
       "        vertical-align: middle;\n",
       "    }\n",
       "\n",
       "    .dataframe tbody tr th {\n",
       "        vertical-align: top;\n",
       "    }\n",
       "\n",
       "    .dataframe thead th {\n",
       "        text-align: right;\n",
       "    }\n",
       "</style>\n",
       "<table border=\"1\" class=\"dataframe\">\n",
       "  <thead>\n",
       "    <tr style=\"text-align: right;\">\n",
       "      <th></th>\n",
       "      <th>Gender</th>\n",
       "      <th>Age</th>\n",
       "      <th>Height</th>\n",
       "      <th>Weight</th>\n",
       "      <th>family_history_with_overweight</th>\n",
       "      <th>FAVC</th>\n",
       "      <th>FCVC</th>\n",
       "      <th>NCP</th>\n",
       "      <th>CAEC</th>\n",
       "      <th>SMOKE</th>\n",
       "      <th>CH2O</th>\n",
       "      <th>SCC</th>\n",
       "      <th>FAF</th>\n",
       "      <th>TUE</th>\n",
       "      <th>CALC</th>\n",
       "      <th>MTRANS</th>\n",
       "      <th>NObeyesdad</th>\n",
       "    </tr>\n",
       "  </thead>\n",
       "  <tbody>\n",
       "  </tbody>\n",
       "</table>\n",
       "</div>"
      ],
      "text/plain": [
       "Empty DataFrame\n",
       "Columns: [Gender, Age, Height, Weight, family_history_with_overweight, FAVC, FCVC, NCP, CAEC, SMOKE, CH2O, SCC, FAF, TUE, CALC, MTRANS, NObeyesdad]\n",
       "Index: []"
      ]
     },
     "execution_count": 42,
     "metadata": {},
     "output_type": "execute_result"
    }
   ],
   "source": [
    "# no nulls \n",
    "df[df.isnull().any(axis=1)]"
   ]
  },
  {
   "cell_type": "code",
   "execution_count": 43,
   "id": "71ca87c4",
   "metadata": {},
   "outputs": [],
   "source": [
    "# Function to get min, max and unique counts of a numerical feature\n",
    "def variable_counts(columns, stage):\n",
    "\n",
    "    if stage == 'pre':\n",
    "        print(\"Pre Conversion to Integer\")\n",
    "    else:\n",
    "        print(\"Post Conversion to Integer\")\n",
    "\n",
    "    for col in columns:    \n",
    "        print(\"Variable:\", col, \"| Count Unique:\",df[col].nunique(),\"| Min: \", df[col].min(), \"| Max: \",df[col].max())"
   ]
  },
  {
   "cell_type": "code",
   "execution_count": 44,
   "id": "ec0fcfe2",
   "metadata": {},
   "outputs": [
    {
     "name": "stdout",
     "output_type": "stream",
     "text": [
      "Pre Conversion to Integer\n",
      "Variable: FCVC | Count Unique: 810 | Min:  1.0 | Max:  3.0\n",
      "Variable: NCP | Count Unique: 635 | Min:  1.0 | Max:  4.0\n",
      "Variable: CH2O | Count Unique: 1268 | Min:  1.0 | Max:  3.0\n",
      "Variable: TUE | Count Unique: 1129 | Min:  0.0 | Max:  2.0\n",
      "Variable: FAF | Count Unique: 1190 | Min:  0.0 | Max:  3.0\n",
      "\n",
      "Post Conversion to Integer\n",
      "Variable: FCVC | Count Unique: 3 | Min:  1 | Max:  3\n",
      "Variable: NCP | Count Unique: 4 | Min:  1 | Max:  4\n",
      "Variable: CH2O | Count Unique: 3 | Min:  1 | Max:  3\n",
      "Variable: TUE | Count Unique: 3 | Min:  0 | Max:  2\n",
      "Variable: FAF | Count Unique: 4 | Min:  0 | Max:  3\n"
     ]
    }
   ],
   "source": [
    "# Convert float variables to integer to the nearest inter\n",
    "columns = [\"FCVC\", \"NCP\", \"CH2O\", \"TUE\", \"FAF\"]\n",
    "\n",
    "# pre conversion countss\n",
    "variable_counts(columns, 'pre')\n",
    "\n",
    "# convert to int / nearest int value\n",
    "for col in columns:\n",
    "    #round to nearest whole number\n",
    "    df[col] = round(df[col]).astype('int')  \n",
    "    \n",
    "# post conversion counts\n",
    "print(\"\")\n",
    "variable_counts(columns, 'post')"
   ]
  },
  {
   "cell_type": "code",
   "execution_count": 55,
   "id": "c17abb13",
   "metadata": {},
   "outputs": [
    {
     "name": "stderr",
     "output_type": "stream",
     "text": [
      "C:\\Anaconda\\lib\\site-packages\\seaborn\\_decorators.py:36: FutureWarning: Pass the following variable as a keyword arg: x. From version 0.12, the only valid positional argument will be `data`, and passing other arguments without an explicit keyword will result in an error or misinterpretation.\n",
      "  warnings.warn(\n",
      "C:\\Anaconda\\lib\\site-packages\\seaborn\\_decorators.py:36: FutureWarning: Pass the following variable as a keyword arg: x. From version 0.12, the only valid positional argument will be `data`, and passing other arguments without an explicit keyword will result in an error or misinterpretation.\n",
      "  warnings.warn(\n",
      "C:\\Anaconda\\lib\\site-packages\\seaborn\\_decorators.py:36: FutureWarning: Pass the following variable as a keyword arg: x. From version 0.12, the only valid positional argument will be `data`, and passing other arguments without an explicit keyword will result in an error or misinterpretation.\n",
      "  warnings.warn(\n",
      "C:\\Anaconda\\lib\\site-packages\\seaborn\\_decorators.py:36: FutureWarning: Pass the following variable as a keyword arg: x. From version 0.12, the only valid positional argument will be `data`, and passing other arguments without an explicit keyword will result in an error or misinterpretation.\n",
      "  warnings.warn(\n",
      "C:\\Anaconda\\lib\\site-packages\\seaborn\\_decorators.py:36: FutureWarning: Pass the following variable as a keyword arg: x. From version 0.12, the only valid positional argument will be `data`, and passing other arguments without an explicit keyword will result in an error or misinterpretation.\n",
      "  warnings.warn(\n",
      "C:\\Anaconda\\lib\\site-packages\\seaborn\\_decorators.py:36: FutureWarning: Pass the following variable as a keyword arg: x. From version 0.12, the only valid positional argument will be `data`, and passing other arguments without an explicit keyword will result in an error or misinterpretation.\n",
      "  warnings.warn(\n",
      "C:\\Anaconda\\lib\\site-packages\\seaborn\\_decorators.py:36: FutureWarning: Pass the following variable as a keyword arg: x. From version 0.12, the only valid positional argument will be `data`, and passing other arguments without an explicit keyword will result in an error or misinterpretation.\n",
      "  warnings.warn(\n",
      "C:\\Anaconda\\lib\\site-packages\\seaborn\\_decorators.py:36: FutureWarning: Pass the following variable as a keyword arg: x. From version 0.12, the only valid positional argument will be `data`, and passing other arguments without an explicit keyword will result in an error or misinterpretation.\n",
      "  warnings.warn(\n",
      "C:\\Anaconda\\lib\\site-packages\\seaborn\\_decorators.py:36: FutureWarning: Pass the following variable as a keyword arg: x. From version 0.12, the only valid positional argument will be `data`, and passing other arguments without an explicit keyword will result in an error or misinterpretation.\n",
      "  warnings.warn(\n",
      "C:\\Anaconda\\lib\\site-packages\\seaborn\\_decorators.py:36: FutureWarning: Pass the following variable as a keyword arg: x. From version 0.12, the only valid positional argument will be `data`, and passing other arguments without an explicit keyword will result in an error or misinterpretation.\n",
      "  warnings.warn(\n",
      "C:\\Anaconda\\lib\\site-packages\\seaborn\\_decorators.py:36: FutureWarning: Pass the following variable as a keyword arg: x. From version 0.12, the only valid positional argument will be `data`, and passing other arguments without an explicit keyword will result in an error or misinterpretation.\n",
      "  warnings.warn(\n",
      "C:\\Anaconda\\lib\\site-packages\\seaborn\\_decorators.py:36: FutureWarning: Pass the following variable as a keyword arg: x. From version 0.12, the only valid positional argument will be `data`, and passing other arguments without an explicit keyword will result in an error or misinterpretation.\n",
      "  warnings.warn(\n",
      "C:\\Anaconda\\lib\\site-packages\\seaborn\\_decorators.py:36: FutureWarning: Pass the following variable as a keyword arg: x. From version 0.12, the only valid positional argument will be `data`, and passing other arguments without an explicit keyword will result in an error or misinterpretation.\n",
      "  warnings.warn(\n",
      "C:\\Anaconda\\lib\\site-packages\\seaborn\\_decorators.py:36: FutureWarning: Pass the following variable as a keyword arg: x. From version 0.12, the only valid positional argument will be `data`, and passing other arguments without an explicit keyword will result in an error or misinterpretation.\n",
      "  warnings.warn(\n",
      "C:\\Anaconda\\lib\\site-packages\\seaborn\\_decorators.py:36: FutureWarning: Pass the following variable as a keyword arg: x. From version 0.12, the only valid positional argument will be `data`, and passing other arguments without an explicit keyword will result in an error or misinterpretation.\n",
      "  warnings.warn(\n",
      "C:\\Anaconda\\lib\\site-packages\\seaborn\\_decorators.py:36: FutureWarning: Pass the following variable as a keyword arg: x. From version 0.12, the only valid positional argument will be `data`, and passing other arguments without an explicit keyword will result in an error or misinterpretation.\n",
      "  warnings.warn(\n",
      "C:\\Anaconda\\lib\\site-packages\\seaborn\\_decorators.py:36: FutureWarning: Pass the following variable as a keyword arg: x. From version 0.12, the only valid positional argument will be `data`, and passing other arguments without an explicit keyword will result in an error or misinterpretation.\n",
      "  warnings.warn(\n",
      "C:\\Anaconda\\lib\\site-packages\\seaborn\\_decorators.py:36: FutureWarning: Pass the following variable as a keyword arg: x. From version 0.12, the only valid positional argument will be `data`, and passing other arguments without an explicit keyword will result in an error or misinterpretation.\n",
      "  warnings.warn(\n"
     ]
    },
    {
     "data": {
      "image/png": "[encoded data removed]",
      "text/plain": [
       "<Figure size 1080x720 with 9 Axes>"
      ]
     },
     "metadata": {
      "needs_background": "light"
     },
     "output_type": "display_data"
    }
   ],
   "source": [
    "# columns of interest\n",
    "columns = ['Gender', 'family_history_with_overweight', 'FAVC', 'CAEC', 'SMOKE',\n",
    "           'SCC', 'CALC', 'MTRANS', 'NObeyesdad']\n",
    "\n",
    "fig, ax = plt.subplots(3, 3, figsize=(15, 10))\n",
    "for col, subplot in zip(columns, ax.flatten()):\n",
    "    sns.countplot(df[col], ax=subplot)\n",
    "    \n",
    "    if col==\"MTRANS\":\n",
    "        sns.countplot(df[col],ax=subplot)\n",
    "        subplot.set_xticklabels(labels = df[\"MTRANS\"].unique(), rotation=45, horizontalalignment='right')        \n",
    "        subplot.yaxis.label.set_text(\"Number of Records\")\n",
    "    elif col==\"NObeyesdad\":\n",
    "        sns.countplot(df[col],ax=subplot)\n",
    "        subplot.set_xticklabels(labels=df[\"NObeyesdad\"].unique(), rotation=60, horizontalalignment='right')  \n",
    "        subplot.yaxis.label.set_text(\"Number of Records\")\n",
    "    else:\n",
    "        sns.countplot(df[col],ax=subplot)  \n",
    "        subplot.yaxis.label.set_text(\"Number of Records\")\n",
    "        \n",
    "# show figure & plots\n",
    "fig.suptitle(\"Categorigal Variables\", fontsize=20)\n",
    "plt.tight_layout(pad=5, w_pad=0.0, h_pad=1)\n",
    "plt.show()"
   ]
  },
  {
   "cell_type": "code",
   "execution_count": 59,
   "id": "a4dc1dab",
   "metadata": {},
   "outputs": [
    {
     "name": "stderr",
     "output_type": "stream",
     "text": [
      "C:\\Anaconda\\lib\\site-packages\\seaborn\\_decorators.py:36: FutureWarning: Pass the following variable as a keyword arg: x. From version 0.12, the only valid positional argument will be `data`, and passing other arguments without an explicit keyword will result in an error or misinterpretation.\n",
      "  warnings.warn(\n",
      "C:\\Anaconda\\lib\\site-packages\\seaborn\\_decorators.py:36: FutureWarning: Pass the following variable as a keyword arg: x. From version 0.12, the only valid positional argument will be `data`, and passing other arguments without an explicit keyword will result in an error or misinterpretation.\n",
      "  warnings.warn(\n",
      "C:\\Anaconda\\lib\\site-packages\\seaborn\\_decorators.py:36: FutureWarning: Pass the following variable as a keyword arg: x. From version 0.12, the only valid positional argument will be `data`, and passing other arguments without an explicit keyword will result in an error or misinterpretation.\n",
      "  warnings.warn(\n",
      "C:\\Anaconda\\lib\\site-packages\\seaborn\\_decorators.py:36: FutureWarning: Pass the following variable as a keyword arg: x. From version 0.12, the only valid positional argument will be `data`, and passing other arguments without an explicit keyword will result in an error or misinterpretation.\n",
      "  warnings.warn(\n",
      "C:\\Anaconda\\lib\\site-packages\\seaborn\\_decorators.py:36: FutureWarning: Pass the following variable as a keyword arg: x. From version 0.12, the only valid positional argument will be `data`, and passing other arguments without an explicit keyword will result in an error or misinterpretation.\n",
      "  warnings.warn(\n"
     ]
    },
    {
     "data": {
      "image/png": "[encoded data removed]",
      "text/plain": [
       "<Figure size 1080x288 with 5 Axes>"
      ]
     },
     "metadata": {
      "needs_background": "light"
     },
     "output_type": "display_data"
    }
   ],
   "source": [
    "# columns of interest\n",
    "columns = [\"FCVC\", \"NCP\", \"CH2O\", \"FAF\", \"TUE\"]\n",
    "\n",
    "fig, ax = plt.subplots(1, 5, figsize=(15, 4))\n",
    "for col, subplot in zip(columns, ax.flatten()):\n",
    "    sns.countplot(df[col], ax=subplot)\n",
    "    subplot.yaxis.label.set_text(\"Number of Records\")\n",
    "\n",
    "# show figure & plots\n",
    "fig.suptitle(\"Ordinal Variables\", fontsize=20)\n",
    "plt.tight_layout(pad=5, w_pad=0.7, h_pad=0.5)\n",
    "plt.show()"
   ]
  },
  {
   "cell_type": "code",
   "execution_count": 88,
   "id": "edc166a9",
   "metadata": {},
   "outputs": [
    {
     "name": "stdout",
     "output_type": "stream",
     "text": [
      "Number of variables with > 0.95 correlation:  0\n"
     ]
    }
   ],
   "source": [
    "# Create correlation matrix and considering only the strength of correlation by calculating absolute value of correlation coefficient\n",
    "corr_matrix = df.corr().abs()\n",
    "\n",
    "# Considering the upper traingle of the correlation matrix, just to make callculation little efficient, althouh step is not that neccesary\n",
    "upper_triangle = np.triu(corr_matrix)     ##to consider only upper triangle of  the matrix, `np.triu()` i used\n",
    "\n",
    "# Fill '1' values from the diagonal value with Nan, used this as while filetring the correlation coefficient to get those with value >0.95, it is not required to consider these diagonal values\n",
    "np.fill_diagonal(corr_matrix.values, np.nan)\n",
    "\n",
    "to_drop = [column for column in corr_matrix.columns if any(corr_matrix[column] > 0.95)]\n",
    "\n",
    "print(\"Number of variables with > 0.95 correlation: \", len(to_drop))"
   ]
  },
  {
   "cell_type": "markdown",
   "id": "73afb464",
   "metadata": {},
   "source": [
    "## Model building"
   ]
  },
  {
   "cell_type": "markdown",
   "id": "e87b11b0",
   "metadata": {},
   "source": [
    "* Models for this data need to cater to > 2 two classes\n",
    "* Data is limited so model will need to perform well with limited amount of data.\n",
    "* The data is not Gaussian so the model needs to be non-parametic or at least not strictly parametic\n",
    "* data is petty wide but not deep, i.e., large faetures as comapred to records, so reducing features is necessary to prevent overfitting and improve model performance."
   ]
  },
  {
   "cell_type": "code",
   "execution_count": 89,
   "id": "34805f29",
   "metadata": {},
   "outputs": [],
   "source": [
    "# Copy cleaned data to new dataframe\n",
    "df_prep = df.copy()"
   ]
  },
  {
   "cell_type": "code",
   "execution_count": 90,
   "id": "48db5a3a",
   "metadata": {},
   "outputs": [
    {
     "data": {
      "text/plain": [
       "Index(['Gender', 'Age', 'Height', 'Weight', 'family_history_with_overweight',\n",
       "       'FAVC', 'FCVC', 'NCP', 'CAEC', 'SMOKE', 'CH2O', 'SCC', 'FAF', 'TUE',\n",
       "       'CALC', 'MTRANS', 'NObeyesdad'],\n",
       "      dtype='object')"
      ]
     },
     "execution_count": 90,
     "metadata": {},
     "output_type": "execute_result"
    }
   ],
   "source": [
    "df_prep.columns"
   ]
  },
  {
   "cell_type": "code",
   "execution_count": null,
   "id": "296f7f92",
   "metadata": {},
   "outputs": [],
   "source": [
    "# create dummy variables\n",
    "df_prep = pd.get_dummies(df_prep,columns=[\"Gender\",\"family_history_with_overweight\",\n",
    "                                          \"FAVC\",\"CAEC\",\"SMOKE\",\"SCC\",\"CALC\",\"MTRANS\"])\n",
    "df_prep.head()"
   ]
  },
  {
   "cell_type": "code",
   "execution_count": 94,
   "id": "74abac9b",
   "metadata": {},
   "outputs": [],
   "source": [
    "# split dataset in features and target variable\n",
    "\n",
    "# Features\n",
    "X = df_prep.drop(columns=[\"NObeyesdad\"])\n",
    "\n",
    "# Target variable\n",
    "y = df_prep['NObeyesdad']"
   ]
  },
  {
   "cell_type": "code",
   "execution_count": 95,
   "id": "019b6399",
   "metadata": {},
   "outputs": [],
   "source": [
    "# splitting into train and test data\n",
    "from sklearn.model_selection import train_test_split\n",
    "\n",
    "X_train, X_test, y_train, y_test = train_test_split(X, y, test_size=0.3, random_state=1) # 70% training and 30% test"
   ]
  },
  {
   "cell_type": "markdown",
   "id": "4fba54f8",
   "metadata": {},
   "source": [
    "## Machine Learning Models\n",
    "We will apply:\n",
    "* Decision Trees\n",
    "* Random Forest\n",
    "* Support Vector Machines (SVM)\n",
    "* K Nearest Neighbors"
   ]
  },
  {
   "cell_type": "code",
   "execution_count": 97,
   "id": "7fd96ff2",
   "metadata": {},
   "outputs": [],
   "source": [
    "from sklearn.neighbors import KNeighborsClassifier\n",
    "from sklearn.tree import DecisionTreeClassifier # Import Decision Tree Classifier\n",
    "from sklearn.svm import SVC\n",
    "from sklearn.ensemble import RandomForestClassifier\n",
    "from sklearn.metrics import classification_report\n",
    "from sklearn.naive_bayes import GaussianNB\n",
    "from sklearn import metrics #Import scikit-learn metrics module for accuracy calculation\n",
    "from sklearn.preprocessing import StandardScaler # Import for standard scaling of the data\n",
    "from sklearn.preprocessing import MinMaxScaler # Import for standard scaling of the data"
   ]
  },
  {
   "cell_type": "code",
   "execution_count": 98,
   "id": "69552a78",
   "metadata": {},
   "outputs": [],
   "source": [
    "# standard scale data\n",
    "ss = StandardScaler()\n",
    "X_train_scaled = ss.fit_transform(X_train)\n",
    "X_test_scaled = ss.transform(X_test)"
   ]
  },
  {
   "cell_type": "code",
   "execution_count": 102,
   "id": "50814446",
   "metadata": {},
   "outputs": [],
   "source": [
    "def run_models(X_train: pd.DataFrame , y_train: pd.DataFrame, X_test: pd.DataFrame, y_test: pd.DataFrame):\n",
    "    models = [          \n",
    "          ('Random Forest', RandomForestClassifier(random_state=2020)),\n",
    "          ('Decision Tree', DecisionTreeClassifier()),                                                 \n",
    "          ('KNN', KNeighborsClassifier()),\n",
    "          ('SVM', SVC())\n",
    "        ]  \n",
    "    for name, model in models:        \n",
    "        # unscaled data\n",
    "        clf = model.fit(X_train, y_train)\n",
    "        y_pred = clf.predict(X_test)\n",
    "        \n",
    "        # scaled data\n",
    "        clf_scaled = model.fit(X_train_scaled, y_train)\n",
    "        y_pred_scaled = clf_scaled.predict(X_test_scaled)\n",
    "        \n",
    "        # accuracy scores\n",
    "        accuracy = round(metrics.accuracy_score(y_test, y_pred),5)\n",
    "        scaled_accuracy = round(metrics.accuracy_score(y_test, y_pred_scaled),5)\n",
    "        \n",
    "        # output\n",
    "        print(name + ':')        \n",
    "        print(\"---------------------------------------------------------------\")      \n",
    "        print(\"Accuracy:\", accuracy)\n",
    "        print(\"Accuracy w/Scaled Data (ss):\", scaled_accuracy)\n",
    "        if (accuracy >= scaled_accuracy):\n",
    "            print(\"\\nClassification Report:\\n\", metrics.classification_report(y_test, y_pred))      \n",
    "            print(\"                            -----------------------------------               \\n\")      \n",
    "        else:\n",
    "            print(\"\\nClassification Report (ss):\\n\", metrics.classification_report(y_test, y_pred_scaled))"
   ]
  },
  {
   "cell_type": "code",
   "execution_count": 103,
   "id": "2c13be47",
   "metadata": {},
   "outputs": [
    {
     "name": "stdout",
     "output_type": "stream",
     "text": [
      "Random Forest:\n",
      "---------------------------------------------------------------\n",
      "Accuracy: 0.91167\n",
      "Accuracy w/Scaled Data (ss): 0.91167\n",
      "\n",
      "Classification Report:\n",
      "                      precision    recall  f1-score   support\n",
      "\n",
      "Insufficient_Weight       0.93      0.93      0.93        92\n",
      "      Normal_Weight       0.69      0.83      0.75        77\n",
      "     Obesity_Type_I       1.00      0.91      0.95       114\n",
      "    Obesity_Type_II       0.98      1.00      0.99        85\n",
      "   Obesity_Type_III       1.00      1.00      1.00        92\n",
      " Overweight_Level_I       0.90      0.78      0.83        89\n",
      "Overweight_Level_II       0.88      0.92      0.90        85\n",
      "\n",
      "           accuracy                           0.91       634\n",
      "          macro avg       0.91      0.91      0.91       634\n",
      "       weighted avg       0.92      0.91      0.91       634\n",
      "\n",
      "                            -----------------------------------               \n",
      "\n",
      "Decision Tree:\n",
      "---------------------------------------------------------------\n",
      "Accuracy: 0.94637\n",
      "Accuracy w/Scaled Data (ss): 0.94164\n",
      "\n",
      "Classification Report:\n",
      "                      precision    recall  f1-score   support\n",
      "\n",
      "Insufficient_Weight       0.96      0.97      0.96        92\n",
      "      Normal_Weight       0.91      0.87      0.89        77\n",
      "     Obesity_Type_I       0.92      0.96      0.94       114\n",
      "    Obesity_Type_II       0.98      0.95      0.96        85\n",
      "   Obesity_Type_III       1.00      1.00      1.00        92\n",
      " Overweight_Level_I       0.92      0.93      0.93        89\n",
      "Overweight_Level_II       0.94      0.93      0.93        85\n",
      "\n",
      "           accuracy                           0.95       634\n",
      "          macro avg       0.95      0.94      0.95       634\n",
      "       weighted avg       0.95      0.95      0.95       634\n",
      "\n",
      "                            -----------------------------------               \n",
      "\n",
      "KNN:\n",
      "---------------------------------------------------------------\n",
      "Accuracy: 0.8817\n",
      "Accuracy w/Scaled Data (ss): 0.77603\n",
      "\n",
      "Classification Report:\n",
      "                      precision    recall  f1-score   support\n",
      "\n",
      "Insufficient_Weight       0.83      0.97      0.89        92\n",
      "      Normal_Weight       0.84      0.47      0.60        77\n",
      "     Obesity_Type_I       0.91      0.94      0.92       114\n",
      "    Obesity_Type_II       0.95      0.99      0.97        85\n",
      "   Obesity_Type_III       1.00      0.99      0.99        92\n",
      " Overweight_Level_I       0.79      0.91      0.85        89\n",
      "Overweight_Level_II       0.84      0.84      0.84        85\n",
      "\n",
      "           accuracy                           0.88       634\n",
      "          macro avg       0.88      0.87      0.87       634\n",
      "       weighted avg       0.88      0.88      0.87       634\n",
      "\n",
      "                            -----------------------------------               \n",
      "\n"
     ]
    },
    {
     "name": "stderr",
     "output_type": "stream",
     "text": [
      "C:\\Anaconda\\lib\\site-packages\\sklearn\\neighbors\\_classification.py:228: FutureWarning: Unlike other reduction functions (e.g. `skew`, `kurtosis`), the default behavior of `mode` typically preserves the axis it acts along. In SciPy 1.11.0, this behavior will change: the default value of `keepdims` will become False, the `axis` over which the statistic is taken will be eliminated, and the value None will no longer be accepted. Set `keepdims` to True or False to avoid this warning.\n",
      "  mode, _ = stats.mode(_y[neigh_ind, k], axis=1)\n",
      "C:\\Anaconda\\lib\\site-packages\\sklearn\\neighbors\\_classification.py:228: FutureWarning: Unlike other reduction functions (e.g. `skew`, `kurtosis`), the default behavior of `mode` typically preserves the axis it acts along. In SciPy 1.11.0, this behavior will change: the default value of `keepdims` will become False, the `axis` over which the statistic is taken will be eliminated, and the value None will no longer be accepted. Set `keepdims` to True or False to avoid this warning.\n",
      "  mode, _ = stats.mode(_y[neigh_ind, k], axis=1)\n"
     ]
    },
    {
     "name": "stdout",
     "output_type": "stream",
     "text": [
      "SVM:\n",
      "---------------------------------------------------------------\n",
      "Accuracy: 0.5694\n",
      "Accuracy w/Scaled Data (ss): 0.80442\n",
      "\n",
      "Classification Report (ss):\n",
      "                      precision    recall  f1-score   support\n",
      "\n",
      "Insufficient_Weight       0.86      0.91      0.88        92\n",
      "      Normal_Weight       0.54      0.70      0.61        77\n",
      "     Obesity_Type_I       0.85      0.75      0.79       114\n",
      "    Obesity_Type_II       0.89      0.98      0.93        85\n",
      "   Obesity_Type_III       1.00      0.98      0.99        92\n",
      " Overweight_Level_I       0.79      0.64      0.71        89\n",
      "Overweight_Level_II       0.70      0.67      0.69        85\n",
      "\n",
      "           accuracy                           0.80       634\n",
      "          macro avg       0.80      0.80      0.80       634\n",
      "       weighted avg       0.81      0.80      0.81       634\n",
      "\n"
     ]
    }
   ],
   "source": [
    "#run Decision Trees, Random Forest, KNN and SVN\n",
    "run_models(X_train, y_train, X_test, y_test)"
   ]
  },
  {
   "cell_type": "markdown",
   "id": "3d2ab9e3",
   "metadata": {},
   "source": [
    "**Decision tree model performs better with approx.94% accuracy**"
   ]
  },
  {
   "cell_type": "code",
   "execution_count": null,
   "id": "3fc4510e",
   "metadata": {},
   "outputs": [],
   "source": []
  }
 ],
 "metadata": {
  "kernelspec": {
   "display_name": "Python 3 (ipykernel)",
   "language": "python",
   "name": "python3"
  },
  "language_info": {
   "codemirror_mode": {
    "name": "ipython",
    "version": 3
   },
   "file_extension": ".py",
   "mimetype": "text/x-python",
   "name": "python",
   "nbconvert_exporter": "python",
   "pygments_lexer": "ipython3",
   "version": "3.9.12"
  }
 },
 "nbformat": 4,
 "nbformat_minor": 5
}
